{
 "cells": [
  {
   "cell_type": "code",
   "execution_count": 2,
   "metadata": {},
   "outputs": [],
   "source": [
    "import numpy as np\n",
    "import cv2 as cv\n",
    "import matplotlib.pyplot as plt\n",
    "import collections"
   ]
  },
  {
   "cell_type": "code",
   "execution_count": 7,
   "metadata": {},
   "outputs": [],
   "source": [
    "def HoughLineDetector(img, angle_num, distantce_num):\n",
    "    width, height = img.shape[:2]\n",
    "    print(height, width)\n",
    "    \n",
    "    dist = np.sqrt(np.square(height) + np.square(width))\n",
    "    \n",
    "    angles = np.arange(0, 180, 180 / angle_num)\n",
    "    \n",
    "    distances = np.arange(-dist, dist, (2 * dist) / distantce_num)\n",
    "    \n",
    "    angel_cos = np.cos(np.deg2rad(angles))\n",
    "    angel_sin = np.sin(np.deg2rad(angles))\n",
    "    \n",
    "    accumulator = np.zeros((distantce_num, angle_num), dtype=float)\n",
    "    print(accumulator.shape)\n",
    "    \n",
    "    points = collections.defaultdict(list)\n",
    "    \n",
    "#     points = np.full((*accumulator.shape), dtype=object)  \n",
    "#     print(points.shape)\n",
    "    \n",
    "    for x in range(0, width):\n",
    "        for y in range(0, height):\n",
    "            if img[x, y] != 0:\n",
    "                for angle_ind in range(0, angle_num):\n",
    "                    cur_distance = (x - width / 2) * angel_cos[angle_ind] + (y - height / 2) * angel_sin[angle_ind]\n",
    "                    distance_ind = (np.abs(distances - cur_distance)).argmin()\n",
    "                    accumulator[distance_ind, angle_ind] += 1\n",
    "                    points[distance_ind, angle_ind].append((x, y))\n",
    "                    \n",
    "    return accumulator, points\n",
    "    "
   ]
  },
  {
   "cell_type": "code",
   "execution_count": 106,
   "metadata": {},
   "outputs": [],
   "source": [
    "def HoughCircleDetector(img, angle_num, distance_num):\n",
    "    width, height = img.shape[:2]\n",
    "    print(height, width)\n",
    "    \n",
    "    dist = np.sqrt(np.square(height) + np.square(width))\n",
    "    \n",
    "    angles = np.arange(0, 360, 360 / angle_num)\n",
    "    \n",
    "    distances = np.arange(0, dist,  dist / distance_num)\n",
    "    \n",
    "    angle_cos = np.cos(np.deg2rad(angles))\n",
    "    angle_sin = np.sin(np.deg2rad(angles))\n",
    "    \n",
    "    accumulator = np.zeros((distance_num, width, height), dtype=float)\n",
    "    print(accumulator.shape)\n",
    "    print(distances.shape)\n",
    "    for x in range(0, width):\n",
    "        for y in range(0, height):\n",
    "            if img[x, y] != 0:\n",
    "                for cur_distance in range(0, distance_num):\n",
    "                    for cur_angel in range(0, angle_num):\n",
    "                        cur_x = x - distances[cur_distance] * angle_cos[cur_angel]\n",
    "                        cur_y = y - distances[cur_distance] * angle_sin[cur_angel]\n",
    "                        if x != cur_x and y != cur_y:\n",
    "                            if 0 <= int(cur_x) < width and 0 <= int(cur_y) < height:\n",
    "                                accumulator[cur_distance, int(cur_x), int(cur_y)] += 1\n",
    "            \n",
    "    return accumulator, distances\n"
   ]
  },
  {
   "cell_type": "code",
   "execution_count": 107,
   "metadata": {},
   "outputs": [
    {
     "name": "stdout",
     "output_type": "stream",
     "text": [
      "425 330\n",
      "(100, 330, 425)\n",
      "(100,)\n"
     ]
    }
   ],
   "source": [
    "img1 = cv.imread('test1.png', cv.IMREAD_GRAYSCALE)\n",
    "\n",
    "result1 = HoughCircleDetector(img1, 360, 100)"
   ]
  },
  {
   "cell_type": "code",
   "execution_count": 8,
   "metadata": {},
   "outputs": [
    {
     "name": "stdout",
     "output_type": "stream",
     "text": [
      "425 330\n",
      "(50, 180)\n"
     ]
    }
   ],
   "source": [
    "img = cv.imread('test.png', cv.IMREAD_GRAYSCALE)\n",
    "\n",
    "result, points = HoughLineDetector(img, 180, 50)"
   ]
  },
  {
   "cell_type": "code",
   "execution_count": 119,
   "metadata": {},
   "outputs": [
    {
     "data": {
      "image/png": "[encoded data removed]",
      "text/plain": [
       "<Figure size 432x288 with 1 Axes>"
      ]
     },
     "metadata": {
      "needs_background": "light"
     },
     "output_type": "display_data"
    }
   ],
   "source": [
    "plt.imshow(result, cmap='hot', interpolation='nearest')\n",
    "plt.show()"
   ]
  },
  {
   "cell_type": "code",
   "execution_count": 93,
   "metadata": {},
   "outputs": [
    {
     "data": {
      "text/plain": [
       "(5, 106, 144)"
      ]
     },
     "execution_count": 93,
     "metadata": {},
     "output_type": "execute_result"
    }
   ],
   "source": [
    "np.unravel_index(np.argmax(result1[0]), result1[0].shape)\n",
    "# result1[0, 80, 141]"
   ]
  },
  {
   "cell_type": "code",
   "execution_count": 118,
   "metadata": {},
   "outputs": [
    {
     "data": {
      "text/plain": [
       "<matplotlib.patches.Circle at 0x7f15484384c0>"
      ]
     },
     "execution_count": 118,
     "metadata": {},
     "output_type": "execute_result"
    },
    {
     "data": {
      "image/png": "[encoded data removed]",
      "text/plain": [
       "<Figure size 432x288 with 2 Axes>"
      ]
     },
     "metadata": {
      "needs_background": "light"
     },
     "output_type": "display_data"
    }
   ],
   "source": [
    "plt.imshow(img1, cmap='gray')\n",
    "plt.colorbar()\n",
    "\n",
    "\n",
    "circle = plt.Circle((144, 106), result1[1][5], fill=False, color='red')\n",
    "plt.gca().add_artist(circle)\n"
   ]
  }
 ],
 "metadata": {
  "kernelspec": {
   "display_name": "Python 3",
   "language": "python",
   "name": "python3"
  },
  "language_info": {
   "codemirror_mode": {
    "name": "ipython",
    "version": 3
   },
   "file_extension": ".py",
   "mimetype": "text/x-python",
   "name": "python",
   "nbconvert_exporter": "python",
   "pygments_lexer": "ipython3",
   "version": "3.8.5"
  }
 },
 "nbformat": 4,
 "nbformat_minor": 4
}
